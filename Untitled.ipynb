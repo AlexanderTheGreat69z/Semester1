{
 "cells": [
  {
   "cell_type": "code",
   "execution_count": 2,
   "id": "d6fa6de7",
   "metadata": {},
   "outputs": [
    {
     "name": "stdout",
     "output_type": "stream",
     "text": [
      "help me\n"
     ]
    }
   ],
   "source": [
    "verb = \"help\"\n",
    "subject = \"me\"\n",
    "\n",
    "print(verb, subject)"
   ]
  },
  {
   "cell_type": "code",
   "execution_count": null,
   "id": "07648896",
   "metadata": {},
   "outputs": [],
   "source": []
  }
 ],
 "metadata": {
  "kernelspec": {
   "display_name": "Python 3 (ipykernel)",
   "language": "python",
   "name": "python3"
  },
  "language_info": {
   "codemirror_mode": {
    "name": "ipython",
    "version": 3
   },
   "file_extension": ".py",
   "mimetype": "text/x-python",
   "name": "python",
   "nbconvert_exporter": "python",
   "pygments_lexer": "ipython3",
   "version": "3.9.12"
  }
 },
 "nbformat": 4,
 "nbformat_minor": 5
}
